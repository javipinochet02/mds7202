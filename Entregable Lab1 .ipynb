{
 "cells": [
  {
   "cell_type": "markdown",
   "metadata": {
    "cell_id": "097fce6dce21405c911254a775ae3d26",
    "deepnote_cell_type": "markdown",
    "id": "J4_IcuuKZj9Y"
   },
   "source": [
    "<h1><center>Laboratorio 1: Git 👾</center></h1>\n",
    "\n",
    "<center><strong>MDS7202: Laboratorio de Programación Científica para Ciencia de Datos - Primavera 2025</strong></center>"
   ]
  },
  {
   "cell_type": "markdown",
   "metadata": {
    "cell_id": "9e8e8f2ae34e461da4f44508a96d2cf4",
    "deepnote_cell_type": "markdown",
    "id": "AEXIACc7aADv"
   },
   "source": [
    "### Cuerpo Docente:\n",
    "\n",
    "- Profesores: Diego Cortez, Gabriel Iturra\n",
    "- Auxiliares: Melanie Peña, Valentina Rojas\n",
    "- Ayudantes: Nicolás Cabello, Cristopher Urbina"
   ]
  },
  {
   "cell_type": "markdown",
   "metadata": {
    "cell_id": "3e5b48c23e1b48f6a64de41899166179",
    "deepnote_cell_type": "markdown",
    "id": "0HgMMyoCaG8X"
   },
   "source": [
    "### Equipo: **SUPER IMPORTANTE - notebooks sin nombre no serán revisados**\n",
    "\n",
    "- Nombre de alumno 1: Javier Pinochet\n",
    "- Nombre de alumno 2: Daniel Muñoz"
   ]
  },
  {
   "cell_type": "markdown",
   "metadata": {
    "cell_id": "1db7c82b68614d19b112ba3b0d0abe4d",
    "deepnote_cell_type": "markdown",
    "id": "fz77X6glaK6y"
   },
   "source": [
    "### **Link de repositorio de GitHub:** [Insertar Enlace](https://)"
   ]
  },
  {
   "cell_type": "markdown",
   "metadata": {
    "cell_id": "bc3dac65089d4ae6a43c079547dee179",
    "deepnote_cell_type": "markdown",
    "id": "rRwqaxIZaNx3"
   },
   "source": [
    "## Reglas:\n",
    "\n",
    "- **Grupos de 2 personas**\n",
    "- Fecha de entrega: Entregas Martes a las 23:59.\n",
    "- Instrucciones del lab el viernes a las 16:15 en formato online. Asistencia no es obligatoria, pero se recomienda **fuertemente** asistir.\n",
    "- <u>Prohibidas las copias</u>. Cualquier intento de copia será debidamente penalizado con el reglamento de la escuela.\n",
    "- Tienen que subir el laboratorio a u-cursos y a su repositorio de github. Labs que no estén en u-cursos no serán revisados. Recuerden que el repositorio también tiene nota.\n",
    "- Cualquier duda fuera del horario de clases al foro. Mensajes al equipo docente serán respondidos por este medio.\n",
    "- Pueden usar cualquier material del curso que estimen conveniente."
   ]
  },
  {
   "cell_type": "markdown",
   "metadata": {
    "cell_id": "05e4729411a24153837fd13b7f198bd9",
    "deepnote_cell_type": "markdown",
    "id": "bmToL27JaSrf"
   },
   "source": [
    "## Objetivos del lab:\n",
    "\n",
    "\n",
    "- Conocer los elementos básicos que conformar `Git`\n",
    "- Clonar repositorios\n",
    "- Identificar ramas de un repositorio\n",
    "- Reconocer y solucionar problemas entre ramas\n",
    "- Subir cambios a un repositorio"
   ]
  },
  {
   "cell_type": "markdown",
   "metadata": {
    "cell_id": "5ebae9d601bd4d508349ab55297e9f82",
    "deepnote_cell_type": "markdown",
    "id": "bvnPCvrVbJLK"
   },
   "source": [
    "## Parte 1: Conocimiento Teórico (2.5 pts)\n",
    "\n",
    "<p align=\"center\">\n",
    "  <img src=\"https://cdn.thedesigninspiration.com/wp-content/uploads/sites/3/2019/04/macintosh-hdusersbrittanyloefflerdownloadsanig-1.gif\" width=\"350\">\n",
    "</p>"
   ]
  },
  {
   "cell_type": "markdown",
   "metadata": {
    "cell_id": "627494dba4f84520b3ee8b9cbf58ee79",
    "deepnote_cell_type": "markdown",
    "id": "JHl-24XnbNLF"
   },
   "source": [
    "Responda las siguientes preguntas (0.2 pts c/u):\n",
    "\n",
    "1. ¿Qué es `Git` y cómo se relaciona con el control de versiones?\n",
    "\n",
    "2. Nombre y explique 3 diferencias entre `Git` y `Github`.\n",
    "\n",
    "3. ¿Qué es un `hash` y cómo se representa en un `commit`? De un ejemplo.\n",
    "\n",
    "4. ¿Que elementos componen a la estructura de datos de `Git`?\n",
    "\n",
    "5. ¿Que comandos de `Git` sirven para crear un repositorio y hacer seguimiento a cambios en los archivos?"
   ]
  },
  {
   "cell_type": "markdown",
   "metadata": {
    "cell_id": "6d06c40f429044a298b27c666f51f46f",
    "deepnote_cell_type": "markdown",
    "id": "2tXCSkf0caG8"
   },
   "source": [
    "<code>Escriba sus respuestas acá:</code>\n",
    "\n",
    "1. Git es un sistema de control de versiones distribuido (DVCS) que permite registrar los cambios hechos en archivos a lo largo del tiempo, guardar “fotografías” (snapshots) del proyecto y volver a estados anteriores si es necesario. También facilita el trabajo colaborativo, ya que cada persona tiene una copia completa del historial del repositorio a través del comando <code>git clone</code>.\n",
    "\n",
    "2. Diferencias:\n",
    "- **Naturaleza**: Git es un software de control de versiones que funciona en la línea de comandos. Github es un servicio web que hospeda repositorios git en la nube.\n",
    "- **Ubicación del repositorio**: Git crea repositorios en la máquina local. Github permite subir esos repositorios a un servidor remoto para compartirlos.\n",
    "- **Interfaz**: Git no tiene interfaz gráfica. Github ofrece una interfaz visual, herramientas colaborativas y funciones extra como _pull requests_ y gestión de issues.\n",
    "\n",
    "3. Un hash es un identificador único generado por el algoritmo SHA-1. En los commit se representa por un hash de 40 carácteres, donde se suelen usar los primeros 7. Ejemplo:\n",
    "\n",
    "```\n",
    "commit (5d20087)a5002eac407917dd7c3ee1481e8e2130d (origin/fix/ifs-elif-cadena, fix/ifs-elif-cadena)\n",
    "Author: Poti02 <javier.pinochet@ug.uchile.cl>\n",
    "Date:   Sat Aug 23 22:19:05 2025 -0400\n",
    "\n",
    "    merge\n",
    "```\n",
    "\n",
    "4. El modelo de datos es un sistema **key-value** con tres objetos enlazado mediantes hashes:\n",
    "\n",
    "- **Blob**: Almacena el contenido en un archivo, integrando cambios nuevos.\n",
    "- **Tree**: Representa directorios que contienen blobs y otros árboles.\n",
    "- **Commit**: Registra un snapshot del proyecto, apuntando a un árbol y guardando metadatos, como autor, fecha y mensaje.\n",
    "\n",
    "5. Para crear repositorio:\n",
    "\n",
    "```\n",
    "git init nombre-del-repo\n",
    "git clone url-del-repo\n",
    "```\n",
    "\n",
    "Para hacer seguimiento de cambios:\n",
    "\n",
    "```\n",
    "git status                 # ver estado de los archivos\n",
    "git add archivo            # pasar archivo a staging area\n",
    "git add .                  # agregar todos los cambios\n",
    "git commit -m \"mensaje\"    # guardar snapshot en el historial\n",
    "git log                    # ver historial de commits\n",
    "\n",
    "```"
   ]
  },
  {
   "cell_type": "markdown",
   "metadata": {
    "cell_id": "ec9855406e324cc98b59e33500faea84",
    "deepnote_cell_type": "markdown",
    "id": "MACccbP4gU43"
   },
   "source": [
    "Responda si las siguientes afirmaciones son Verdaderas (V) o Falsas (F). Justifique en **cualquiera** de los casos (0.2 pts c/u):\n",
    "\n",
    "\n",
    "6. `Git` siempre resuelve automáticamente los problemas de lineas al hacer merge entre diferentes ramas.\n",
    "7. Ejecutar `git pull` sobre un repositorio es equivalente a ejecutar `git clone`.\n",
    "8. `git status` genera los mismos resultados que `git log`.\n",
    "9. En `Git` es posible deshacer cambios y volver a versiones anteriores del código.\n",
    "10. El comando `git commit` se utiliza para enviar cambios al repositorio remoto."
   ]
  },
  {
   "cell_type": "markdown",
   "metadata": {
    "cell_id": "7e6a5a6e15b045cc9d104cf017825f1a",
    "deepnote_cell_type": "markdown",
    "id": "DFnmCToOgeM3"
   },
   "source": [
    "<code>Escriba sus respuestas acá:</code>\n",
    "\n",
    "6. **Falso**: Cuando dos ramas modifican las mismas líneas de un archivo, se generan conflictos. Git no puede resolverlos automáticamente y requiere edición del archivo para decidir qué versión conservar.\n",
    "\n",
    "7. **Falso**: Git clone se usa una vez para copiar el repositorio completo en la máquina local. Git pull se usa después de clonar para traer cambios nuevos del repositorio remoto y fusionarlos con los archivos locales.\n",
    "\n",
    "8. **Falso**: Git status muestra el estado actual del directorio de trabajo, como ver los archivos modificados, staging, sin seguimiento o errores. Git log muestra el historial de commits, con autor, fecha y hash.\n",
    "\n",
    "9. **Verdadero**: Para lograrlo, se pueden usar los siguientes códigos:\n",
    "\n",
    "- <code>git checkout commit-hash</code> para volver a un commit anterior.\n",
    "- <code>git reset</code> para quitar archivos del staging.\n",
    "- <code>git revert</code> para crear un nuevo commit que revierte cambios.\n",
    "\n",
    "10. **Falso**: Solo guarda los cambios en el repositorio local. El comando <code>git push</code> permite actualizar los cambios en el repositorio remoto."
   ]
  },
  {
   "cell_type": "markdown",
   "metadata": {
    "cell_id": "54317cad024744ebaf4938df55ba3b95",
    "deepnote_cell_type": "markdown",
    "id": "LYq55sI2Rjf0"
   },
   "source": [
    "Por último, investigue y comente con sus palabras para qué sirven los siguientes comandos:\n",
    "\n",
    "11. `git stash` (0.25 puntos)\n",
    "\n",
    "<code>git stash</code> se usa para guardar cambios no confirmados ubicados en el directorio de trabajo o staging. Sirve para cambiar de ámbito de trabajo, sin desechar ni hacer commit del trabajo anterior. Los cambios se guardan en una pila (stash) y se pueden recuperar con el siguiente código:\n",
    "\n",
    "```\n",
    "git stash apply    # aplica el último stash guardado\n",
    "git stash pop      # aplica y elimina el stash de la pila\n",
    "git stash list     # ver stashes guardados\n",
    "\n",
    "```\n",
    "12. `git reset`. ¿Cuál es la diferencia de este comando con `git revert`?. (0.25 puntos)\n",
    "\n",
    "<code>git reset</code> se usa para mover el puntero HEAD a un commit anterior, permitiendo alterar el historial de commits. Hay tres modos:\n",
    "\n",
    "- <code>--soft</code>: Converva cambios en el staging.\n",
    "- <code>--mixed</code>: Deja cambios en el directorio de trabajo, pero los quita del staging (que es el modo por defecto de <code>git reset</code>).\n",
    "- <code>--hard</code>: Elimina todos los cambios y deja el repositorio como en ese commit.\n",
    "\n",
    "La diferencia con <code>git revert</code> es que este no borra commits, sino que agrega una especie de commit reverso para deshacher cambios, sin borrar historial.\n"
   ]
  },
  {
   "cell_type": "markdown",
   "metadata": {
    "cell_id": "3e4d8b9974e4426ca38fd20f4b835a55",
    "deepnote_cell_type": "markdown",
    "id": "i7Em9JkbbRLo"
   },
   "source": [
    "## Parte 2: Creando una presentación personal (1.5 pts)\n",
    "\n",
    "<p align=\"center\">\n",
    "  <img src=\"https://media.tenor.com/arqlNu8gyJYAAAAC/cat-cat-jumping.gif\" width=\"150\">\n",
    "</p>\n",
    "\n"
   ]
  },
  {
   "cell_type": "markdown",
   "metadata": {
    "cell_id": "988648005dba4b9782c6625dfe6ae4ef",
    "deepnote_cell_type": "markdown",
    "id": "XWIHfyrlbYOJ"
   },
   "source": [
    "Para empezar a \"*soltar las manos*\" con `Git`, se les encomienda crear un repositorio con una presentación personal. El repositorio debe contener un breve resumen de quienes son ustedes, sus gustos, experiencias, y cualquier otro detalle interesante que ustedes consideren relevante.\n",
    "\n",
    "Para realizar esto, deben seguir los siguientes pasos:\n",
    "\n",
    "1. Contar con una cuenta de github (1 por persona)\n",
    "2. Crear un repositorio con su nombre de usuario\n",
    "3. Vincular el repositorio a su ambiente local ¿Qué comando(s) me permiten hacer esto?\n",
    "4. Crear un archivo `readme.md` con la información que ustedes deseen compartir.\n",
    "5. Realizar `push` con los cambios generados\n",
    "\n",
    "\n",
    "**Nota: Deben trabajar todos estos puntos desde su ambiente local**\n",
    "\n",
    "*Hint: Una buena opción es usar templates de presentación personal que encuentren en Google, como los que ofrece este [sitio](https://durgeshsamariya.github.io/awesome-github-profile-readme-templates/#/)*.\n",
    "\n",
    "**Entregable:**\n",
    "\n",
    "Enlace al repositorio con la presentación personal.\n",
    "\n",
    "IMPORTANTE: DEBEN ADJUNTAR UN ENLACE POR PERSONA"
   ]
  },
  {
   "cell_type": "markdown",
   "metadata": {
    "cell_id": "081b38d55dc54282bc8e3cd300ce9d3e",
    "deepnote_cell_type": "markdown",
    "id": "IIkWyl9tf0Sg"
   },
   "source": [
    "<code>Link Presentacion 1 (Javier Pinochet):</code> https://github.com/javipinochet02/mds7202.git\n",
    "\n",
    "<code>Link Presentacion 2 (Daniel Muñoz):</code> https://github.com/danmc899/danmc899"
   ]
  },
  {
   "cell_type": "markdown",
   "metadata": {
    "cell_id": "0481a05d2d1a46928f6cfb7762720980",
    "deepnote_cell_type": "markdown",
    "id": "CAzXOwvDY-IG"
   },
   "source": [
    "## Parte 3: Trabajando sobre un repositorio externo (2 pts)\n",
    "\n",
    "<p align=\"center\">\n",
    "  <img src=\"https://media.tenor.com/YXL-0SK15j4AAAAC/dance-animals.gif\" width=\"300\">\n",
    "</p>\n",
    "\n",
    "Tras muchos dolores de cabeza, un grupo de entusiastas académicos decidieron aprender sobre `Git` y así trabajar colaborativamente de forma más ordenada y eficiente. Después de una infinidad de intentos y aprender de sus errores \"*a la mala*\", los académicos lograron levantar un [repositorio](https://github.com/MDS7202/lab1) en `Github`. Usando el repositorio de los académicos, responda las siguientes preguntas (**incluya también los comandos en `Git` ocupados**):\n"
   ]
  },
  {
   "cell_type": "markdown",
   "metadata": {
    "cell_id": "bcef73b2e8604579bde90ed6622abfe9",
    "deepnote_cell_type": "markdown",
    "id": "BFRnAw0rfguR"
   },
   "source": [
    "1. Clone el repositorio a su ambiente local. (0.25 pts)"
   ]
  },
  {
   "cell_type": "markdown",
   "metadata": {
    "cell_id": "5d126ac3819c44479af94d3895bc4c97",
    "deepnote_cell_type": "markdown",
    "id": "KXro32yBeilN"
   },
   "source": [
    "<code>Escriba sus respuestas acá:</code>\n",
    "\n",
    "Código usado y líneas entregadas:\n",
    "<code>\n",
    "$ git init\n",
    "Initialized empty Git repository in C:/Users/dlamu/Desktop/Laboprogra/.git/ </code>\n",
    "\n",
    "\n",
    "<code>\n",
    "$ git clone https://github.com/MDS7202/lab1.git\n",
    "Cloning into 'lab1'...\n",
    "remote: Enumerating objects: 14, done.\n",
    "remote: Counting objects: 100% (14/14), done.\n",
    "remote: Compressing objects: 100% (12/12), done.\n",
    "remote: Total 14 (delta 4), reused 12 (delta 2), pack-reused 0 (from 0)\n",
    "Receiving objects: 100% (14/14), done.\n",
    "Resolving deltas: 100% (4/4), done.</code>\n"
   ]
  },
  {
   "cell_type": "markdown",
   "metadata": {
    "cell_id": "e215e4e25b2440f09ac273ba63603986",
    "deepnote_cell_type": "markdown",
    "id": "8QB-GKmQRjf1"
   },
   "source": [
    "2. Descomprima los archivos subidos con la tarea en U-cursos en la carpeta recién clonada de github. Una vez realizado esto, cree un archivo `.gitignore` con el cual omita la carpeta `videos` y los archivos con la extensión `.txt` exceptuando el archivo `171.txt` de la carpeta `texts`. (0.25 pts)"
   ]
  },
  {
   "cell_type": "markdown",
   "metadata": {
    "cell_id": "186233b44d004e3bbd86262d010188b5",
    "deepnote_cell_type": "markdown",
    "id": "7VJ8IIYpRjf1"
   },
   "source": [
    "<code>Para esta pregunta usted deberá adjuntar el .gitignore creado en su repo.</code> https://github.com/danmc899/MDS7202/blob/main/Entregables_Lab1/.gitignore"
   ]
  },
  {
   "cell_type": "markdown",
   "metadata": {
    "cell_id": "1de150590a41484a988b8e46616a2324",
    "deepnote_cell_type": "markdown",
    "id": "q2qmiDyjt2M_"
   },
   "source": [
    "3. Inspeccione brevemente el repositorio: ¿Cual es el objetivo del proyecto? Explique brevemente la estructura del proyecto, asi como también cada elemento que lo conforma. (0.25 pts)"
   ]
  },
  {
   "cell_type": "markdown",
   "metadata": {
    "cell_id": "082ca01c865e48e28352b280400c47b6",
    "deepnote_cell_type": "markdown",
    "id": "aBHpR8VTftkT"
   },
   "source": [
    "<code>Escriba sus respuestas acá:</code>\n",
    "El proyecto parece ser un programa interactivo que devuelve el sonido de allgunos animales, en particular del perro, el gato y el zorro, para este último entrega un link para una canción que literalmente (\"The Fox (What Does the Fox Say?)\") explica el sonido del zorro.\n",
    "<ul>\n",
    "<li>Animales.py es el encargado de hacer los pasos condicionales según el animal que se introduzca.\n",
    "<li>main.py es el encargado de la parte interacctiva entre el usuario y el programa.</li>\n",
    "<li>readme.md describe brevemente el proyecto con un dibujo de animales</li>\n",
    "<li>.gitignore es el archivo que recién se creó en la parte 2.</li>\n",
    "<li>Los archivos .txt al parecer son líneas del guión de Shrek.</li>\n",
    "<li>Y el hay un video con una animación de 31 minutos.</li>\n",
    "</ul>    "
   ]
  },
  {
   "cell_type": "markdown",
   "metadata": {
    "cell_id": "3aab4a3ee0c246e1be955680ad653fb8",
    "deepnote_cell_type": "markdown",
    "id": "XFwqcpLZfylf"
   },
   "source": [
    "4. Identifique los últimos cambios al repositorio, reconociendo las principales ramas de trabajo. ¿Son informativos los `commit` realizados? (0.25 pts)\n",
    "*Hint: Se recomienda usar los argumentos `all`, `graph` y `decorate`*"
   ]
  },
  {
   "cell_type": "markdown",
   "metadata": {
    "cell_id": "0fab79a360ac4c6a9ca0ab884f85c7e1",
    "deepnote_cell_type": "markdown",
    "id": "cmWfXBkOhog0"
   },
   "source": [
    "<code>Escriba sus respuestas acá:</code> Informan detalladamente porque dan cuenta de que hicieron algunos cambios como agregar una función, separarlo en módulos y arreglar los ifs. También el autor, la fecha, el número de commit, y las ramas sobre las cuales se hicieron.\n",
    "\n",
    "Código usado:\n",
    "\n",
    "<code>$ git log --all --graph --decorate</code> \n"
   ]
  },
  {
   "cell_type": "markdown",
   "metadata": {
    "cell_id": "d07b24d21f2343fb9a7e6a5db74e98c3",
    "deepnote_cell_type": "markdown",
    "id": "Vqbj9HdXrUnN"
   },
   "source": [
    "5. Uno de los académicos se da cuenta que la rama principal de trabajo no se ejecuta correctamente para todos los argumentos. Señale y explique el error en el código e identifique a la persona que lo cometió usando `git blame` (0.25 pts)\n",
    "\n",
    "*Hint: Le puede ser útil esta [documentación](https://www.atlassian.com/es/git/tutorials/inspecting-a-repository/git-blame).*"
   ]
  },
  {
   "cell_type": "markdown",
   "metadata": {
    "cell_id": "bc5b0f9c639643108f8e66687b721732",
    "deepnote_cell_type": "markdown",
    "id": "5ajhV2Iar3tV"
   },
   "source": [
    "<code>Escriba sus respuestas acá:</code> El error está en que se usan ifs para todos los condicionales, cuando deberían usarse elif a partir del segundo, ya que así el else se ejecuta en base al último condicional, que es el del zorro, por lo tanto cuando se introduzca \"perro\" o \"gato\", van a hacer un sonido pero luego van a lanzar un mensaje erróneo de \"animal no reconocido\", ya que se va a ejecutar el último else.\n",
    "\n",
    "El culpable parece ser mezosky, quien editó las lineas de animales.py\n",
    "\n",
    "Código usado:\n",
    "\n",
    "<code>$ git blame animales.py"
   ]
  },
  {
   "cell_type": "markdown",
   "metadata": {
    "cell_id": "f3f4e78e6d9145ebbb120c0a2e4aade6",
    "deepnote_cell_type": "markdown",
    "id": "m8J3uE7MhqTA"
   },
   "source": [
    "6. Busque los siguientes `commit`:\n",
    "\n",
    "- `c8b1a62d7299552b0654f930d695b33109214111`\n",
    "- `362fe21ee44f53ee944cee4ba484600308f83d78`\n",
    "- `25543a3baf77292baf849726784ca005473acab1`\n",
    "\n",
    "¿Qué diferencias existen entre cada uno? (0.25 pts)"
   ]
  },
  {
   "cell_type": "markdown",
   "metadata": {
    "cell_id": "696ed361ac0c41c8a214cfad9dcb39e6",
    "deepnote_cell_type": "markdown",
    "id": "sNHnZsgIitGh"
   },
   "source": [
    "<code>Escriba sus respuestas acá:</code>\n",
    "\n",
    "- `c8b1a62d7299552b0654f930d695b33109214111`: Se hace sobre la rama main, es de los primeros commits, ya que es inmediatamente posterior al primer commit, y dice que se agrega una función\n",
    "- `362fe21ee44f53ee944cee4ba484600308f83d78`: Se ejecuta apuntando a las ramas main, origin/new_features, origin/main y origin/HEAD, y es posterior al commit anterior donde se agrega una función, y dice que se separa el proyecto en módulos\n",
    "- `25543a3baf77292baf849726784ca005473acab1`: Se realiza apuntando a la rama origin/fix-ifs, a ninguna de las ramas que apuntaba al anterior, y se ejecuta posterior al commit donde se agrega una función, es decir, no es posterior al commit donde se separa el proyecto; al ser en una rama diferente a main, no se arreglan los ifs en esta rama. "
   ]
  },
  {
   "cell_type": "markdown",
   "metadata": {
    "cell_id": "b4e18f8ce94c430f85915c4e2732d05b",
    "deepnote_cell_type": "markdown",
    "id": "WQIPbfNCgpxC"
   },
   "source": [
    "7. Realice una `merge` de la rama `fix-ifs` con la rama `main` y describa lo que ocurre. ¿Qué parte del código podría estar ocasionando esto? (0.25 pts)"
   ]
  },
  {
   "cell_type": "markdown",
   "metadata": {
    "cell_id": "36da6a0d4f4a427bbccac09e2ae965fd",
    "deepnote_cell_type": "markdown",
    "id": "ypH_6lL5ioZz"
   },
   "source": [
    "<code>Escriba sus respuestas acá:</code> Git arroja que hay un conflicto entre las 2 ramas que hay que solucionar antes. Esto se refiere a que a la rama origin/fix-ifs está un commit atrás de la rama main, ya que el commit que separa el proyecto no apunta a la rama origin/fix-ifs\n",
    "\n",
    "Código usado y líneas entregadas:\n",
    "\n",
    "<code>$ git checkout main\n",
    "Already on 'main'\n",
    "Your branch is up to date with 'origin/main'.\n",
    "</code>\n",
    "\n",
    "<code>$ git merge fix-ifs\n",
    "merge: fix-ifs - not something we can merge\n",
    "Did you mean this?\n",
    "        origin/fix-ifs\n",
    "</code>    \n",
    "\n",
    "<code>$ git merge origin/fix-ifs\n",
    "Auto-merging main.py\n",
    "CONFLICT (content): Merge conflict in main.py\n",
    "Automatic merge failed; fix conflicts and then commit the result.\n",
    "</code>    \n"
   ]
  },
  {
   "cell_type": "markdown",
   "metadata": {
    "cell_id": "09787ab449c543479e5cc54c2a3b6c19",
    "deepnote_cell_type": "markdown",
    "id": "GYfODCjeivkU"
   },
   "source": [
    "8. Cree una rama nueva y proponga una solución al problema anterior, adjuntando el código corregido y señalando las líneas modificadas. (0.25 pts)"
   ]
  },
  {
   "cell_type": "markdown",
   "metadata": {
    "cell_id": "6d963fba3f2d4c17a4b281c7d3f4fb8b",
    "deepnote_cell_type": "markdown",
    "id": "8heBxDU9iziT"
   },
   "source": [
    "<code>Escriba sus respuestas acá:</code>\n",
    "\n",
    "Código de Git usado:\n",
    "\n",
    "<code>$ git branch new-fix-ifs\n",
    "$ git checkout new-fix-ifs\n",
    "$ git add .\n",
    "$ git commit -m \"fix ifs definitely\"\n",
    "\n",
    "</code>  \n",
    "\n",
    "Código corregido: https://github.com/danmc899/MDS7202/blob/main/Entregables_Lab1/animales.py\n",
    " donde se cambiaron las líneas 9 y 11 que ahora son elif en lugar de if corrigiendo definitivamente el error"
   ]
  },
  {
   "cell_type": "markdown",
   "metadata": {
    "cell_id": "8a47d4bf8b3045d68e4f29bb449c87f1",
    "deepnote_cell_type": "markdown",
    "id": "Av8ebB9jkALO"
   },
   "source": [
    "## Fin"
   ]
  },
  {
   "cell_type": "markdown",
   "metadata": {
    "cell_id": "cec4b53942ed489f8f8b63d0e9d4f3e5",
    "deepnote_cell_type": "markdown",
    "id": "aQqZT9fSkBK8"
   },
   "source": [
    "Eso ha sido todo por ahora!! Esperamos que este laboratorio les haya gustado y servido para trabajar con `Git`. Recuerden los dias de plazo que tienen disponibles y que ante cualquier duda no duden en contactar al equipo docente.\n",
    "\n",
    "Nos vemos!!\n",
    "\n",
    "<p align=\"center\">\n",
    "  <img src=\"https://media.tenor.com/OYLdav9k9LkAAAAd/kitty-cat.gif\" width=\"350\">\n",
    "</p>\n"
   ]
  }
 ],
 "metadata": {
  "colab": {
   "provenance": []
  },
  "deepnote_execution_queue": [],
  "deepnote_notebook_id": "62cd20d52b9a4810ada15644630456dc",
  "kernelspec": {
   "display_name": "Python 3 (ipykernel)",
   "language": "python",
   "name": "python3"
  },
  "language_info": {
   "codemirror_mode": {
    "name": "ipython",
    "version": 3
   },
   "file_extension": ".py",
   "mimetype": "text/x-python",
   "name": "python",
   "nbconvert_exporter": "python",
   "pygments_lexer": "ipython3",
   "version": "3.11.7"
  }
 },
 "nbformat": 4,
 "nbformat_minor": 1
}
